{
 "cells": [
  {
   "cell_type": "code",
   "execution_count": 1,
   "metadata": {},
   "outputs": [],
   "source": [
    "import os\n",
    "import random\n",
    "import sys\n",
    "import math\n",
    "import pickle\n",
    "import numpy as np\n",
    "import pandas as pd\n",
    "import time\n",
    "from tqdm import tqdm\n",
    "import matplotlib.pyplot as plt\n",
    "from torch.utils.data import DataLoader, Dataset ,ConcatDataset\n",
    "sys.path.append(r'D:\\WorkPath\\Models\\SwinGAN')\n",
    "from MyDataSet import MultiMaskTimeSeriesDataset\n",
    "\n",
    "def cal_MAPE(y_true,y_pred,mask):\n",
    "    y_true=y_true[mask]\n",
    "    y_pred=y_pred[mask]\n",
    "    return np.mean(np.abs(y_true-y_pred)/(y_true+1e-2))\n"
   ]
  },
  {
   "cell_type": "code",
   "execution_count": 2,
   "metadata": {},
   "outputs": [],
   "source": [
    "def Historic_Average(data : MultiMaskTimeSeriesDataset, iter ,history_len = 7):\n",
    "\n",
    "\n",
    "    test = np.random.randint(7*data.num_masks, len(data)-1 , iter)\n",
    "    total_MSE = []\n",
    "    total_MAE = []\n",
    "    for i in range(iter):\n",
    "        index = test[i]\n",
    "\n",
    "        history_data = data.get_historical_data(index, history_len)\n",
    "        HA=np.mean(history_data, axis=0)\n",
    "        true_data = np.array(data[index][0])\n",
    "        mask = np.array(data[index][1])\n",
    "        # print(mask)\n",
    "        \n",
    "        # 计算MSE\n",
    "        HA = HA * (1 - mask)\n",
    "        true_data = true_data * (1 - mask)\n",
    "        total_MSE.append(np.sum((HA - true_data)**2)/np.sum(1-mask))\n",
    "        total_MAE.append(cal_MAPE(true_data,HA,(1 - mask).astype(bool)   ))\n",
    "    return total_MSE,total_MAE"
   ]
  },
  {
   "cell_type": "code",
   "execution_count": null,
   "metadata": {},
   "outputs": [],
   "source": [
    "project_path = r'D:\\WorkPath\\Models\\ImputeFormer'\n",
    "test_path = os.path.join(project_path , r'Data\\source_test_PEMS04') \n",
    "test_files = os.listdir(test_path)\n",
    "test_files = [os.path.join(test_path, file) for file in test_files]\n",
    "\n",
    "test_record = {'data_name':[],'MSE_test_loss':[] , 'MAPE_test_loss':[]}\n",
    "\n",
    "for file_path in test_files:\n",
    "    with open(file_path, 'rb') as f:\n",
    "        test_data = pickle.load(f)\n",
    "\n",
    "    total_MSE,total_MAE=Historic_Average(test_data,300 , 3)\n",
    "    test_record['data_name'].append(file_path)\n",
    "    test_record['MSE_test_loss'].append(np.mean(total_MSE))\n",
    "    test_record['MAPE_test_loss'].append(np.mean(total_MAE))\n",
    "test_record = pd.DataFrame(test_record)\n",
    "test_record['route']=test_record['data_name'].apply(lambda x :x.split('_')[5])\n",
    "test_record['start']=test_record['data_name'].apply(lambda x :x.split('_')[-3])\n",
    "test_record['miss_rate']=test_record['data_name'].apply(lambda x :x.split('_')[-2])\n",
    "test_record['type']=test_record['data_name'].apply(lambda x :x.split('_')[-1][:-4])\n",
    "test_record=test_record[['route','start','miss_rate','type','MSE_test_loss','MAPE_test_loss']]\n",
    "test_record=test_record.sort_values(['route','type','start'])\n",
    "test_record"
   ]
  }
 ],
 "metadata": {
  "kernelspec": {
   "display_name": "DeepGAN",
   "language": "python",
   "name": "python3"
  },
  "language_info": {
   "codemirror_mode": {
    "name": "ipython",
    "version": 3
   },
   "file_extension": ".py",
   "mimetype": "text/x-python",
   "name": "python",
   "nbconvert_exporter": "python",
   "pygments_lexer": "ipython3",
   "version": "3.10.14"
  }
 },
 "nbformat": 4,
 "nbformat_minor": 2
}
