{
 "cells": [
  {
   "cell_type": "code",
   "execution_count": null,
   "metadata": {},
   "outputs": [],
   "source": [
    "import random\n",
    "import numpy as np\n",
    "import matplotlib.pyplot as plt\n",
    "import os\n",
    "import csv\n",
    "import pickle\n",
    "from typing import Union, List\n",
    "import pandas as pd\n",
    "from MyDataSet import MultiMaskTimeSeriesDataset\n",
    "\n",
    "def time_unit_to_nanoseconds(time_unit: str):\n",
    "    # check_time_unit(time_unit)\n",
    "    if time_unit == 'year':\n",
    "        return 365.2425 * 24 * 60 * 60 * 10**9\n",
    "    elif time_unit == 'week':\n",
    "        time_unit = 'W'\n",
    "    return pd.Timedelta('1' + time_unit).value\n",
    "\n",
    "def datetime_encoded(dataset : pd.DataFrame, units: Union[str, List]) -> pd.DataFrame:\n",
    "    r\"\"\"Transform dataset's temporal index into covariates using sinusoidal\n",
    "    transformations. Each temporal unit is used as period to compute the\n",
    "    operations, obtaining two feature (:math:`\\sin` and :math:`\\cos`) for\n",
    "    each unit.\"\"\"\n",
    "\n",
    "    datetime = dict()\n",
    "    for unit in units:\n",
    "        nano_unit = time_unit_to_nanoseconds(unit)\n",
    "        nano_sec =  dataset[unit]* (2 * np.pi / nano_unit)\n",
    "        datetime[unit + '_sin'] = np.sin(nano_sec)\n",
    "        datetime[unit + '_cos'] = np.cos(nano_sec)\n",
    "    return pd.DataFrame(datetime, dtype=np.float32)\n",
    "\n",
    "\n",
    "df = pd.DataFrame({'time': pd.date_range('2020-01-01', periods=288, freq='5min')})\n",
    "df['day']=df['time'].dt.time\n",
    "df['day']=df['day'].apply(lambda x: (x.hour*3600+x.minute*60+x.second)*10**9)\n",
    "dateencoded=datetime_encoded(df, ['day'])\n",
    "print(dateencoded.shape)\n",
    "\n",
    "file_path=r'D:\\WorkPath\\Models\\ImputeFormer\\Data\\raw_data\\San Diego\\Freeways-data_015.csv'\n",
    "\n",
    "data=pd.read_csv(file_path,header=0)\n",
    "node_num =len( data['ID'].unique())\n",
    "date_len =len( data['date'].unique())\n",
    "data=data.fillna(0)\n",
    "data"
   ]
  },
  {
   "cell_type": "code",
   "execution_count": null,
   "metadata": {},
   "outputs": [],
   "source": [
    "speed_matrix = data[\"Average Speed\"].values\n",
    "speed_matrix=speed_matrix.reshape(date_len,288,node_num)\n",
    "speed_matrix.shape"
   ]
  },
  {
   "cell_type": "code",
   "execution_count": null,
   "metadata": {},
   "outputs": [],
   "source": [
    "\n",
    "plt.figure(figsize=(15,6))\n",
    "plt.imshow(speed_matrix[27,12:264,:].T,aspect='auto',cmap='jet',origin='lower')\n",
    "plt.colorbar()\n",
    "plt.show()"
   ]
  },
  {
   "cell_type": "code",
   "execution_count": null,
   "metadata": {},
   "outputs": [],
   "source": [
    "x=speed_matrix[:40,6*12:264,:].reshape(1,-1)\n",
    "plt.hist(x[0],bins=100)\n",
    "plt.show()"
   ]
  },
  {
   "cell_type": "code",
   "execution_count": 12,
   "metadata": {},
   "outputs": [],
   "source": [
    "route = '015'\n",
    "direction = 'N'\n",
    "route_start = 0\n",
    "route_len =32\n",
    "missing_rate = 0.3\n",
    "missing_type = ['random','linear','block','mixed']\n",
    "missing_type_ind = 0\n",
    "num_masks = 15\n",
    "data_type=['source_train','source_test','target_train','target_test']\n",
    "data_type_ind = 0"
   ]
  },
  {
   "cell_type": "code",
   "execution_count": null,
   "metadata": {},
   "outputs": [],
   "source": [
    "hot_map_data=speed_matrix[:40,:,:]\n",
    "hot_map_data.shape"
   ]
  },
  {
   "cell_type": "code",
   "execution_count": 14,
   "metadata": {},
   "outputs": [],
   "source": [
    "train_ratio = 0.8\n",
    "test_ratio = 0.2\n",
    "missing_rate = 0.3\n",
    "random.seed(0)\n",
    "x = list(range( int(hot_map_data.shape[0])  ))\n",
    "random.shuffle(x)\n",
    "\n",
    "\n",
    "for missing_type_ind in range(3):\n",
    "    for route_start in range(0,51-32,6):\n",
    "        for time_start in [6,10,14,18]:\n",
    "\n",
    "\n",
    "            save_path=os.path.join(r'D:\\WorkPath\\Models\\ImputeFormer\\Data',data_type[data_type_ind])+'_SDG015'\n",
    "            save_path_test=os.path.join(r'D:\\WorkPath\\Models\\ImputeFormer\\Data',data_type[data_type_ind+1])+'_SDG015'\n",
    "\n",
    "            \n",
    "            dataset = MultiMaskTimeSeriesDataset(hot_map_data[ x[0:int(train_ratio* hot_map_data.shape[0]) ],\n",
    "                                                time_start*12:(time_start+4)*12,  route_start:route_start+route_len  ],\n",
    "                                                 dateencoded.values[time_start*12:(time_start+4)*12,:],\n",
    "                                                missing_rate, missing_type[missing_type_ind], num_masks)\n",
    "\n",
    "            # 保存数据集\n",
    "            dataset_file = os.path.join(save_path, \n",
    "                                        'SanDie_go_speed_{}-{}_{}_{}_{}.pkl'.format\n",
    "                                        (route, time_start ,route_start ,int(missing_rate*100) , missing_type[missing_type_ind]))\n",
    "            pd.to_pickle(dataset, dataset_file)\n",
    "            \n",
    "            dataset = MultiMaskTimeSeriesDataset(hot_map_data[ x[int(train_ratio* hot_map_data.shape[0]): ],\n",
    "                                                time_start*12:(time_start+4)*12,route_start:route_start+route_len],\n",
    "                                                 dateencoded.values[time_start*12:(time_start+4)*12,:],\n",
    "                                                missing_rate, missing_type[missing_type_ind], 5)\n",
    "            # 保存数据集\n",
    "            dataset_file = os.path.join(save_path_test, \n",
    "                                        'SanDie_go_speed_{}-{}_{}_{}_{}.pkl'.format\n",
    "                                        (route, time_start ,route_start ,int(missing_rate*100) , missing_type[missing_type_ind]))\n",
    "            pd.to_pickle(dataset, dataset_file)"
   ]
  }
 ],
 "metadata": {
  "kernelspec": {
   "display_name": "base",
   "language": "python",
   "name": "python3"
  },
  "language_info": {
   "codemirror_mode": {
    "name": "ipython",
    "version": 3
   },
   "file_extension": ".py",
   "mimetype": "text/x-python",
   "name": "python",
   "nbconvert_exporter": "python",
   "pygments_lexer": "ipython3",
   "version": "3.10.14"
  }
 },
 "nbformat": 4,
 "nbformat_minor": 2
}
